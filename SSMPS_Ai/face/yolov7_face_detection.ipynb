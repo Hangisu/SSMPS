{
  "nbformat": 4,
  "nbformat_minor": 0,
  "metadata": {
    "colab": {
      "provenance": [],
      "machine_shape": "hm",
      "mount_file_id": "1cKka28mwHGjzGv3zSZ8hjEqTTLvmem3e",
      "authorship_tag": "ABX9TyMrbOLtfChWSeV6mOxzqrGw",
      "include_colab_link": true
    },
    "kernelspec": {
      "name": "python3",
      "display_name": "Python 3"
    },
    "language_info": {
      "name": "python"
    },
    "accelerator": "GPU",
    "gpuClass": "premium"
  },
  "cells": [
    {
      "cell_type": "markdown",
      "metadata": {
        "id": "view-in-github",
        "colab_type": "text"
      },
      "source": [
        "<a href=\"https://colab.research.google.com/github/freenozero/SSMPS_minju/blob/main/yolov7_face_detection.ipynb\" target=\"_parent\"><img src=\"https://colab.research.google.com/assets/colab-badge.svg\" alt=\"Open In Colab\"/></a>"
      ]
    },
    {
      "cell_type": "markdown",
      "source": [
        "# 기본 세팅"
      ],
      "metadata": {
        "id": "bChZITkMc1c0"
      }
    },
    {
      "cell_type": "code",
      "source": [
        "from google.colab import drive\n",
        "drive.mount('/content/drive')"
      ],
      "metadata": {
        "id": "gqUanPr54a3J"
      },
      "execution_count": null,
      "outputs": []
    },
    {
      "cell_type": "code",
      "source": [
        "#remount해야할 때 사용\n",
        "from google.colab import drive\n",
        "drive.mount('/content/drive', force_remount=True)"
      ],
      "metadata": {
        "id": "7YHhTM0vM2e4"
      },
      "execution_count": null,
      "outputs": []
    },
    {
      "cell_type": "code",
      "source": [
        "#갑자기 디렉토리 사용불가능 할 때 사용\n",
        "import os\n",
        "path = \"/content\" \n",
        "os.chdir(path)"
      ],
      "metadata": {
        "id": "7lGJ0XCrNwMT"
      },
      "execution_count": null,
      "outputs": []
    },
    {
      "cell_type": "code",
      "source": [
        "%cd \"/content/drive/MyDrive\"\n",
        "%pwd"
      ],
      "metadata": {
        "id": "VsCo-W3C7_H2"
      },
      "execution_count": null,
      "outputs": []
    },
    {
      "cell_type": "markdown",
      "source": [
        "# 사용한 모델 불러오기\n",
        "\n",
        "## 사용할 모델 github\n",
        "https://github.com/deepcam-cn/yolov5-face\n",
        "\n",
        "https://github.com/derronqi/yolov7-face\n"
      ],
      "metadata": {
        "id": "aTmLRvYwF0dW"
      }
    },
    {
      "cell_type": "code",
      "source": [
        "!git clone https://github.com/derronqi/yolov7-face"
      ],
      "metadata": {
        "id": "zn_Iv3NM2lBc"
      },
      "execution_count": null,
      "outputs": []
    },
    {
      "cell_type": "code",
      "source": [
        "%cd \"/content/drive/MyDrive/yolov7-face\"\n",
        "!pip install -r requirements.txt"
      ],
      "metadata": {
        "id": "sfS__QwE3oWu"
      },
      "execution_count": null,
      "outputs": []
    },
    {
      "cell_type": "code",
      "source": [
        "%cd \"/content/drive/MyDrive/yolov7-face/data\"\n",
        "%cat widerface.yaml"
      ],
      "metadata": {
        "id": "kxbofhU_3rGl"
      },
      "execution_count": null,
      "outputs": []
    },
    {
      "cell_type": "markdown",
      "source": [
        "## Pretrained-Models 다운로드\n",
        "yolov7 github에서 더 다운로드 가능"
      ],
      "metadata": {
        "id": "KXBuM5otH7BK"
      }
    },
    {
      "cell_type": "code",
      "source": [
        "import os\n",
        "%cd /content/drive/MyDrive/yolov7-face\n",
        "os.mkdir(\"pt\")\n",
        "\n",
        "%cd /content/drive/MyDrive/yolov7-face/pt\n",
        "!gdown https://drive.google.com/uc?id=1oIaGXFd4goyBvB1mYDK24GLof53H9ZYo"
      ],
      "metadata": {
        "id": "W9RlfqKqZ5_Q"
      },
      "execution_count": null,
      "outputs": []
    },
    {
      "cell_type": "markdown",
      "source": [
        "# 사용할 데이터셋 불러오기\n",
        "\n",
        "How to Download GoogleDriveFiles from Colab : https://lapina.tistory.com/140\n",
        "\n",
        "\n",
        "data set : http://shuoyang1213.me/WIDERFACE/\n",
        "\n",
        "data set labels: https://drive.google.com/file/d/1adi6ke2vCLQFcpbvFqWo_J4wZIfPqSMG/edit\n",
        "\n",
        "unzip zip file in colab: https://zeuskwon-ds.tistory.com/52\n"
      ],
      "metadata": {
        "id": "2fy4oNJhIErH"
      }
    },
    {
      "cell_type": "markdown",
      "source": [
        "## 이미지, 라벨링 폴더 다운로드"
      ],
      "metadata": {
        "id": "HRVwWlzhHVMK"
      }
    },
    {
      "cell_type": "code",
      "source": [
        "import os\n",
        "%cd /content/drive/MyDrive/yolov7-face/data\n",
        "os.mkdir(\"widerface\")\n",
        "\n",
        "# data set\n",
        "%cd /content/drive/MyDrive/yolov7-face/data/widerface\n",
        "!gdown https://drive.google.com/uc?id=15hGDLhsx8bLgLcIRD5DhYt5iBxnjNF1M\n",
        "!gdown https://drive.google.com/uc?id=1GUCogbp16PMGa39thoMMeWxp7Rp5oM8Q\n",
        "!gdown https://drive.google.com/uc?id=1HIfDbVEWKmsYKJZm4lchTBDLW5N7dY5T\n",
        "\n",
        "# lables\n",
        "!gdown https://drive.google.com/uc?id=1FsZ0ACah386yUufi0E_PVsRW_0VtZ1bd"
      ],
      "metadata": {
        "id": "Mwxzylm6Gq4k"
      },
      "execution_count": null,
      "outputs": []
    },
    {
      "cell_type": "markdown",
      "source": [
        "## unzip"
      ],
      "metadata": {
        "id": "1MT-0r3DHYwS"
      }
    },
    {
      "cell_type": "code",
      "source": [
        "!unzip --qq \"/content/drive/MyDrive/yolov7-face/data/widerface/WIDER_train.zip\" -d \"/content/drive/MyDrive/yolov7-face/data/widerface\"\n",
        "!unzip --qq \"/content/drive/MyDrive/yolov7-face/data/widerface/WIDER_val.zip\" -d \"/content/drive/MyDrive/yolov7-face/data/widerface\"\n",
        "!unzip --qq \"/content/drive/MyDrive/yolov7-face/data/widerface/WIDER_test.zip\" -d \"/content/drive/MyDrive/yolov7-face/data/widerface\"\n",
        "\n",
        "!tar -xzvf \"/content/drive/MyDrive/yolov7-face/data/widerface/yolov7-face-label.tar.gz\" -C \"/content/drive/MyDrive/yolov7-face/data/widerface/\""
      ],
      "metadata": {
        "id": "npgiS_ynIw3Z"
      },
      "execution_count": null,
      "outputs": []
    },
    {
      "cell_type": "markdown",
      "source": [
        "## 폴더, 파일명 정정"
      ],
      "metadata": {
        "id": "mhXxANP4HbxU"
      }
    },
    {
      "cell_type": "code",
      "source": [
        "import os\n",
        "\n",
        "old_name = \"/content/drive/MyDrive/yolov7-face/data/widerface/WIDER_train\"\n",
        "new_name = \"/content/drive/MyDrive/yolov7-face/data/widerface/train\"\n",
        "os.rename(old_name, new_name)\n",
        "old_name = \"/content/drive/MyDrive/yolov7-face/data/widerface/WIDER_val\"\n",
        "new_name = \"/content/drive/MyDrive/yolov7-face/data/widerface/val\"\n",
        "os.rename(old_name, new_name)\n",
        "old_name = \"/content/drive/MyDrive/yolov7-face/data/widerface/WIDER_test\"\n",
        "new_name = \"/content/drive/MyDrive/yolov7-face/data/widerface/test\"\n",
        "os.rename(old_name, new_name)"
      ],
      "metadata": {
        "id": "8KfN63maOVlE"
      },
      "execution_count": null,
      "outputs": []
    },
    {
      "cell_type": "code",
      "source": [
        "import shutil\n",
        "\n",
        "shutil.move(\"/content/drive/MyDrive/yolov7-face/data/widerface/yolov7-face-label/train\", \"/content/drive/MyDrive/yolov7-face/data/widerface/train\")\n",
        "shutil.move(\"/content/drive/MyDrive/yolov7-face/data/widerface/yolov7-face-label/val\", \"/content/drive/MyDrive/yolov7-face/data/widerface/val\")\n",
        "os.rmdir(\"/content/drive/MyDrive/yolov7-face/data/widerface/yolov7-face-label\")\n",
        "\n",
        "old_name = \"/content/drive/MyDrive/yolov7-face/data/widerface/train/train\"\n",
        "new_name = \"/content/drive/MyDrive/yolov7-face/data/widerface/train/labels\"\n",
        "os.rename(old_name, new_name)\n",
        "\n",
        "old_name = \"/content/drive/MyDrive/yolov7-face/data/widerface/val/val\"\n",
        "new_name = \"/content/drive/MyDrive/yolov7-face/data/widerface/val/labels\"\n",
        "os.rename(old_name, new_name)"
      ],
      "metadata": {
        "id": "v9cuTBUULhWf"
      },
      "execution_count": null,
      "outputs": []
    },
    {
      "cell_type": "markdown",
      "source": [
        "images 폴더 안에 종류별로 나눠진 파일을 하나로 합침침"
      ],
      "metadata": {
        "id": "E9Bz4gTzP2oZ"
      }
    },
    {
      "cell_type": "code",
      "source": [
        "import shutil\n",
        "import os\n",
        "# 저장할 폴더명 추출\n",
        "main_folder = \"/content/drive/MyDrive/yolov7-face/data/widerface/train/images\"\n",
        "\n",
        "for folder_name in os.listdir(main_folder):\n",
        "    for file_name in os.listdir(f\"{main_folder}/{folder_name}\"):\n",
        "        shutil.move(f\"{main_folder}/{folder_name}/{file_name}\", f\"{main_folder}/{file_name}\")\n",
        "    os.remove(f\"{main_folder}/{folder_name}/{file_name}\")\n",
        "\n",
        "main_folder = \"/content/drive/MyDrive/yolov7-face/data/widerface/val/images\"\n",
        "\n",
        "for folder_name in os.listdir(main_folder):\n",
        "    for file_name in os.listdir(f\"{main_folder}/{folder_name}\"):\n",
        "        shutil.move(f\"{main_folder}/{folder_name}/{file_name}\", f\"{main_folder}/{file_name}\")\n",
        "    os.rmdir(f\"{main_folder}/{folder_name}/\")\n",
        "\n",
        "main_folder = \"/content/drive/MyDrive/yolov7-face/data/widerface/test/images\"\n",
        "\n",
        "for folder_name in os.listdir(main_folder):\n",
        "    for file_name in os.listdir(f\"{main_folder}/{folder_name}\"):\n",
        "        shutil.move(f\"{main_folder}/{folder_name}/{file_name}\", f\"{main_folder}/{file_name}\")\n",
        "    os.rmdir(f\"{main_folder}/{folder_name}/\")"
      ],
      "metadata": {
        "id": "06BjtNP7JPpp"
      },
      "execution_count": null,
      "outputs": []
    },
    {
      "cell_type": "code",
      "source": [
        "from glob import glob\n",
        "\n",
        "train_img_list = glob('/content/drive/MyDrive/yolov7-face/data/widerface/train/images/*.jpg')\n",
        "val_img_list = glob('/content/drive/MyDrive/yolov7-face/data/widerface/val/images/*.jpg')\n",
        "test_img_list = glob('/content/drive/MyDrive/yolov7-face/data/widerface/test/images/*.jpg')\n",
        "\n",
        "train_txt_list = glob('/content/drive/MyDrive/yolov7-face/data/widerface/train/labels/*.txt')\n",
        "val_txt_list = glob('/content/drive/MyDrive/yolov7-face/data/widerface/val/labels/*.txt')\n",
        "\n",
        "print(len(train_img_list))\n",
        "print(len(val_img_list))\n",
        "print(len(test_img_list))\n",
        "\n",
        "print(\"---------------\")\n",
        "print(len(train_txt_list))\n",
        "print(len(val_txt_list))"
      ],
      "metadata": {
        "id": "w-Al_PxM3v2I"
      },
      "execution_count": null,
      "outputs": []
    },
    {
      "cell_type": "markdown",
      "source": [
        "# Train"
      ],
      "metadata": {
        "id": "SeQ_NQZL_kCc"
      }
    },
    {
      "cell_type": "code",
      "source": [
        "%cd /content/drive/MyDrive/yolov7-face\n",
        "%pwd"
      ],
      "metadata": {
        "id": "IW3BPlR1X2oV"
      },
      "execution_count": null,
      "outputs": []
    },
    {
      "cell_type": "code",
      "source": [
        "!python /content/drive/MyDrive/yolov7-face/train.py --data /content/drive/MyDrive/yolov7-face/data/widerface.yaml --cfg /content/drive/MyDrive/yolov7-face/cfg/yolov7-face.yaml --weights /content/drive/MyDrive/yolov7-face/pt/yolov7-face.pt "
      ],
      "metadata": {
        "id": "DGxpBwyD5FDt"
      },
      "execution_count": null,
      "outputs": []
    },
    {
      "cell_type": "markdown",
      "source": [
        "이어서 학습하기"
      ],
      "metadata": {
        "id": "ExrH4QdcBIRR"
      }
    },
    {
      "cell_type": "code",
      "source": [
        "!python /content/drive/MyDrive/yolov7-face/train.py --data /content/drive/MyDrive/yolov7-face/data/widerface.yaml --cfg /content/drive/MyDrive/yolov7-face/cfg/yolov7-face.yaml --weights /content/drive/MyDrive/yolov7-face/runs/train/exp/weights/last.pt"
      ],
      "metadata": {
        "id": "kFw2FOLgm4OZ"
      },
      "execution_count": null,
      "outputs": []
    },
    {
      "cell_type": "markdown",
      "source": [
        "# Test"
      ],
      "metadata": {
        "id": "o_rDuzhjCOTy"
      }
    },
    {
      "cell_type": "code",
      "source": [
        "%cd /content/drive/MyDrive/yolov7-face/"
      ],
      "metadata": {
        "id": "vdyMgkLyCLKW"
      },
      "execution_count": null,
      "outputs": []
    },
    {
      "cell_type": "code",
      "source": [
        "!python test.py --weights /content/drive/MyDrive/yolov7-face/pt/yolov7-face.pt --data /content/drive/MyDrive/yolov7-face/data/widerface/val/images"
      ],
      "metadata": {
        "id": "7c-97DBNkLln"
      },
      "execution_count": null,
      "outputs": []
    },
    {
      "cell_type": "code",
      "source": [
        "!python evaluation.py -p /content/drive/MyDrive/yolov7-face/widerface_evaluate/widerface_txt -g /content/drive/MyDrive/yolov7-face/widerface_evaluate/ground_truth"
      ],
      "metadata": {
        "id": "1z8tS6aoYbeN"
      },
      "execution_count": null,
      "outputs": []
    }
  ]
}